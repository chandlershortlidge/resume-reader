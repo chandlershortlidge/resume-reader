{
 "cells": [
  {
   "cell_type": "markdown",
   "id": "c40f792b",
   "metadata": {},
   "source": [
    "# PymuPDF reader\n",
    "- Read the tutorial here: https://pymupdf.readthedocs.io/en/latest/tutorial.html"
   ]
  },
  {
   "cell_type": "code",
   "execution_count": 1,
   "id": "4bec2efb",
   "metadata": {},
   "outputs": [
    {
     "name": "stdout",
     "output_type": "stream",
     "text": [
      "Using PyMuPDF v1.26.3 from /Users/chandlershortlidge/Desktop/Ironhack/resume-reader/.venv/lib/python3.12/site-packages/fitz/__init__.py\n"
     ]
    }
   ],
   "source": [
    "# automatically reload modules, including the ones you wrote yourself\n",
    "%load_ext autoreload\n",
    "%autoreload 2\n",
    "\n",
    "import fitz\n",
    "import re\n",
    "\n",
    "import pdf_processor as ppr\n",
    "\n",
    "print(f\"Using PyMuPDF v{fitz.__version__} from {fitz.__file__}\")\n"
   ]
  },
  {
   "cell_type": "code",
   "execution_count": 12,
   "id": "b7df53e0",
   "metadata": {},
   "outputs": [],
   "source": [
    "RESUME_PATH = \"Chandler Shortlidge UXW CV 2025.pdf\""
   ]
  },
  {
   "cell_type": "code",
   "execution_count": 13,
   "id": "8304433b",
   "metadata": {},
   "outputs": [
    {
     "name": "stdout",
     "output_type": "stream",
     "text": [
      "Loaded document with 2 pages\n",
      "format: PDF 1.4\n",
      "title: Chandler Shortlidge UXW CV 2025\n",
      "author: \n",
      "subject: \n",
      "keywords: \n",
      "creator: \n",
      "producer: Skia/PDF m140 Google Docs Renderer\n",
      "creationDate: \n",
      "modDate: \n",
      "trapped: \n",
      "encryption: None\n"
     ]
    }
   ],
   "source": [
    "doc = ppr.load_file(RESUME_PATH)\n",
    "ppr.report_metadata(doc)"
   ]
  },
  {
   "cell_type": "markdown",
   "id": "1c9e08cb",
   "metadata": {},
   "source": [
    "### Keyword Searching\n",
    "- To locate where a term appears on the page (useful for highlighting)"
   ]
  },
  {
   "cell_type": "code",
   "execution_count": 14,
   "id": "70014b58",
   "metadata": {},
   "outputs": [
    {
     "name": "stdout",
     "output_type": "stream",
     "text": [
      "Saved highlighted PDF as: my_highlighted_resume.pdf\n"
     ]
    }
   ],
   "source": [
    "# Define the keywords you want to find\n",
    "keywords_to_find = [\"Python\", \"SQL\", \"AWS\", \"Data Scientist\"]\n",
    "\n",
    "# Call your new function to highlight the keywords\n",
    "doc = ppr.highlight_keywords(doc, keywords_to_find)\n",
    "\n",
    "# save PDF with highlights\n",
    "ppr.save_highlighted_doc(doc, \"my_highlighted_resume.pdf\")              \n",
    "  "
   ]
  },
  {
   "cell_type": "code",
   "execution_count": 15,
   "id": "972645d5",
   "metadata": {},
   "outputs": [
    {
     "name": "stdout",
     "output_type": "stream",
     "text": [
      "Markdown content successfully saved to CS_UX.md\n"
     ]
    }
   ],
   "source": [
    "# Call the function, which returns a single formatted string\n",
    "markdown_output = ppr.pdf_to_markdown(doc)\n",
    "\n",
    "# Write the string to an .md file and receive output \"Markdown content successfully saved to: file_name.md\"\n",
    "output_filename = \"CS_UX.md\"\n",
    "ppr.save_markdown_file(markdown_output, output_filename)"
   ]
  },
  {
   "cell_type": "markdown",
   "id": "c8605e1d",
   "metadata": {},
   "source": [
    "### Get links"
   ]
  },
  {
   "cell_type": "code",
   "execution_count": 16,
   "id": "4c0d5026",
   "metadata": {},
   "outputs": [
    {
     "name": "stdout",
     "output_type": "stream",
     "text": [
      "Page 1 links:\n",
      "  -> URI: https://ninth-moose-2d2.notion.site/Chandler-Shortlidge-UXW-Portfolio-e9aa7c37c14244f286808939928a3c66\n",
      "    location on page: Rect(223.84927368164062, 83.54998779296875, 303.27789306640625, 95.54998779296875)\n",
      "  -> URI: mailto:chandlershortlidge@gmail.com\n",
      "    location on page: Rect(382.9499816894531, 88.04998779296875, 526.1500244140625, 98.8499755859375)\n",
      "  -> URI: https://buycycle.com/en-de\n",
      "    location on page: Rect(113.62742614746094, 172.29998779296875, 162.7513885498047, 185.5)\n",
      "  -> URI: https://www.beatportal.com/\n",
      "    location on page: Rect(141.84478759765625, 364.29998779296875, 191.5516357421875, 377.5)\n",
      "  -> URI: https://djmag.com/\n",
      "    location on page: Rect(125.13646697998047, 556.300048828125, 167.30255126953125, 569.5000610351562)\n",
      "  -> URI: mailto:jonas@buycycle.de\n",
      "    location on page: Rect(382.9499816894531, 478.0500183105469, 436.2753601074219, 488.8500061035156)\n",
      "  -> URI: mailto:stephenflynn17@gmail.com\n",
      "    location on page: Rect(382.9499816894531, 499.0500183105469, 448.5964660644531, 509.8500061035156)\n",
      "  -> URI: mailto:pieterjan@uxwritinghub.com\n",
      "    location on page: Rect(382.9499816894531, 530.550048828125, 455.95849609375, 541.3500366210938)\n",
      "  -> URI: https://uxwritinghub.com/\n",
      "    location on page: Rect(382.9499816894531, 635.550048828125, 463.7795715332031, 646.3500366210938)\n",
      "  -> URI: https://www.googleadservices.com/pagead/aclk?sa=L&ai=DChcSEwjOjbyL2q6AAxUJldUKHRG_CkwYABAAGgJ3cw&ohost=www.google.com&cid=CAESa-D2l0IQaYZjhgkoUUZq2a8XLnF7Pg9y2PaZomF81dVzuk9Va8lmIztaikGS_NZ3zs4Lk16sKV3jOWazCHr_VwKIC9YVTmIQtAHUgZL7mAkDu8JJ9M-mW5b9gD6RWXQCgi6gXrcIk3hyJlHQ&sig=AOD64_0QRGyne6YvwrVeAIkD-HwdjdUzFQ&q&adurl&ved=2ahUKEwjn3bGL2q6AAxWKcfEDHeL0AbIQ0Qx6BAgKEAE\n",
      "    location on page: Rect(382.9499816894531, 656.550048828125, 515.2689819335938, 667.3500366210938)\n",
      "  -> URI: https://www.googleadservices.com/pagead/aclk?sa=L&ai=DChcSEwjOjbyL2q6AAxUJldUKHRG_CkwYABAAGgJ3cw&ohost=www.google.com&cid=CAESa-D2l0IQaYZjhgkoUUZq2a8XLnF7Pg9y2PaZomF81dVzuk9Va8lmIztaikGS_NZ3zs4Lk16sKV3jOWazCHr_VwKIC9YVTmIQtAHUgZL7mAkDu8JJ9M-mW5b9gD6RWXQCgi6gXrcIk3hyJlHQ&sig=AOD64_0QRGyne6YvwrVeAIkD-HwdjdUzFQ&q&adurl&ved=2ahUKEwjn3bGL2q6AAxWKcfEDHeL0AbIQ0Qx6BAgKEAE\n",
      "    location on page: Rect(382.9499816894531, 667.050048828125, 429.7953186035156, 677.8500366210938)\n",
      "Page 2 links:\n"
     ]
    }
   ],
   "source": [
    "ppr.get_links(doc)\n",
    " \n"
   ]
  },
  {
   "cell_type": "markdown",
   "id": "3ea5b893",
   "metadata": {},
   "source": [
    "### Extracting Text and Images"
   ]
  },
  {
   "cell_type": "code",
   "execution_count": null,
   "id": "4f663cfb",
   "metadata": {},
   "outputs": [],
   "source": [
    "# Extract text from each page\n",
    "\n",
    "for page_num in range(doc.page_count):\n",
    "    page = doc.load_page(page_num)\n",
    "    text = page.get_text()\n",
    "\n",
    "#close when done\n",
    "# doc.close()\n",
    "\n",
    "text"
   ]
  }
 ],
 "metadata": {
  "kernelspec": {
   "display_name": "resume-reader",
   "language": "python",
   "name": "python3"
  },
  "language_info": {
   "codemirror_mode": {
    "name": "ipython",
    "version": 3
   },
   "file_extension": ".py",
   "mimetype": "text/x-python",
   "name": "python",
   "nbconvert_exporter": "python",
   "pygments_lexer": "ipython3",
   "version": "3.12.11"
  }
 },
 "nbformat": 4,
 "nbformat_minor": 5
}
