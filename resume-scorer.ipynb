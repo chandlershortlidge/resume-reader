{
 "cells": [
  {
   "cell_type": "markdown",
   "id": "44f5e3a3",
   "metadata": {},
   "source": [
    "## 1. Define Your Keyword/Phrase List\n",
    "First, collect the terms you care about into two categories:"
   ]
  },
  {
   "cell_type": "code",
   "execution_count": 1,
   "id": "d27682a4",
   "metadata": {},
   "outputs": [],
   "source": [
    "import re\n",
    "import spacy\n",
    "from spacy.matcher import PhraseMatcher\n",
    "\n",
    "import scoring_processor as spr\n",
    "\n",
    "with open(\"KANDACE_LOUDOR_new.md\", encoding=\"utf-8\") as f:\n",
    "    raw_md = f.read()"
   ]
  },
  {
   "cell_type": "markdown",
   "id": "a9fc6df8",
   "metadata": {},
   "source": [
    "### 2. Preprocess the Resume Text"
   ]
  },
  {
   "cell_type": "code",
   "execution_count": 2,
   "id": "89d9f0a4",
   "metadata": {},
   "outputs": [],
   "source": [
    "# 2. \n",
    "clean_text = spr.normalize(raw_md)\n"
   ]
  },
  {
   "cell_type": "code",
   "execution_count": 3,
   "id": "a3834430",
   "metadata": {},
   "outputs": [],
   "source": [
    "required, optional = spr.load_keywords_from_config()"
   ]
  },
  {
   "cell_type": "code",
   "execution_count": 4,
   "id": "b0ab125e",
   "metadata": {},
   "outputs": [],
   "source": [
    "# sanity: any accidental overlap between required and optional keywords?\n",
    "overlap = set(required) & set(optional)\n",
    "if overlap:\n",
    "    print(\"WARNING: overlap between words in required/optional:\", overlap)"
   ]
  },
  {
   "cell_type": "code",
   "execution_count": 5,
   "id": "ba8ecfb3",
   "metadata": {},
   "outputs": [],
   "source": [
    "# --- match as unique sets ---\n",
    "req_found = {t for t in required if t in clean_text}\n",
    "opt_found = {t for t in optional if t in clean_text}"
   ]
  },
  {
   "cell_type": "markdown",
   "id": "2da45b9c",
   "metadata": {},
   "source": [
    "### 3. Scoring\n",
    "- Find the \"raw score\" out of 5"
   ]
  },
  {
   "cell_type": "code",
   "execution_count": 11,
   "id": "3a7a5f6f",
   "metadata": {},
   "outputs": [
    {
     "name": "stdout",
     "output_type": "stream",
     "text": [
      "Raw score: 3.5 out of 5\n",
      "Found keywords: {'data scientist', 'pandas', 'keras', 'python', 'sql'}\n"
     ]
    }
   ],
   "source": [
    "raw_score, terms_that_were_found = spr.calculate_score(clean_text, required, optional)\n",
    "\n",
    "print(f\"Raw score: {final_score} out of 5\")\n",
    "print(f\"Found keywords: {terms_that_were_found}\")"
   ]
  },
  {
   "cell_type": "markdown",
   "id": "9155b634",
   "metadata": {},
   "source": [
    "- Now compute percentage and report"
   ]
  },
  {
   "cell_type": "code",
   "execution_count": 14,
   "id": "8c0f41fd",
   "metadata": {},
   "outputs": [
    {
     "name": "stdout",
     "output_type": "stream",
     "text": [
      "Required matched: ['data scientist', 'python']\n",
      "Optional matched: ['keras', 'pandas', 'sql']\n",
      "Raw score: 3.5 / 13.0\n",
      "Percentage match: 26.9%\n"
     ]
    }
   ],
   "source": [
    "# compute percentage\n",
    "max_points = len(required) * 1 + len(optional) * 0.5\n",
    "percent = (raw_score / max_points) * 100 if max_points else 0\n",
    "\n",
    "# 6. Report\n",
    "print(\"Required matched:\", sorted(req_found))\n",
    "print(\"Optional matched:\", sorted(opt_found))\n",
    "print(f\"Raw score: {raw_score} / {max_points}\")\n",
    "print(f\"Percentage match: {percent:.1f}%\")"
   ]
  },
  {
   "cell_type": "code",
   "execution_count": null,
   "id": "8a334be3",
   "metadata": {},
   "outputs": [],
   "source": []
  }
 ],
 "metadata": {
  "kernelspec": {
   "display_name": "resume-reader",
   "language": "python",
   "name": "python3"
  },
  "language_info": {
   "codemirror_mode": {
    "name": "ipython",
    "version": 3
   },
   "file_extension": ".py",
   "mimetype": "text/x-python",
   "name": "python",
   "nbconvert_exporter": "python",
   "pygments_lexer": "ipython3",
   "version": "3.12.11"
  }
 },
 "nbformat": 4,
 "nbformat_minor": 5
}
