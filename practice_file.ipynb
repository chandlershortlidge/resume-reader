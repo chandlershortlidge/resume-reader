{
 "cells": [
  {
   "cell_type": "code",
   "execution_count": 1,
   "id": "27f5d1f8",
   "metadata": {},
   "outputs": [
    {
     "name": "stdout",
     "output_type": "stream",
     "text": [
      "Using PyMuPDF v1.26.3 from /Users/chandlershortlidge/Desktop/Ironhack/resume-reader/.venv/lib/python3.12/site-packages/fitz/__init__.py\n"
     ]
    }
   ],
   "source": [
    "import fitz\n",
    "import re\n",
    "\n",
    "import pdf_processor as ppr\n",
    "\n",
    "print(f\"Using PyMuPDF v{fitz.__version__} from {fitz.__file__}\")"
   ]
  },
  {
   "cell_type": "code",
   "execution_count": 7,
   "id": "77657171",
   "metadata": {},
   "outputs": [],
   "source": [
    "file_path = \"/Users/chandlershortlidge/Desktop/Ironhack/resume-reader/data-scientist-resume-example.pdf\""
   ]
  },
  {
   "cell_type": "code",
   "execution_count": 9,
   "id": "ea2667fc",
   "metadata": {},
   "outputs": [
    {
     "name": "stdout",
     "output_type": "stream",
     "text": [
      "This document is loaded and has 1 pages\n"
     ]
    }
   ],
   "source": [
    "def upload_resume(path: str) -> fitz.Document:\n",
    "    doc = fitz.open(path)\n",
    "    print(f\"This document is loaded and has {doc.page_count} pages\")\n",
    "    return doc\n",
    "\n",
    "doc = upload_resume(file_path)\n"
   ]
  },
  {
   "cell_type": "code",
   "execution_count": null,
   "id": "b0c684ce",
   "metadata": {},
   "outputs": [],
   "source": []
  }
 ],
 "metadata": {
  "kernelspec": {
   "display_name": "resume-reader",
   "language": "python",
   "name": "python3"
  },
  "language_info": {
   "codemirror_mode": {
    "name": "ipython",
    "version": 3
   },
   "file_extension": ".py",
   "mimetype": "text/x-python",
   "name": "python",
   "nbconvert_exporter": "python",
   "pygments_lexer": "ipython3",
   "version": "3.12.11"
  }
 },
 "nbformat": 4,
 "nbformat_minor": 5
}
