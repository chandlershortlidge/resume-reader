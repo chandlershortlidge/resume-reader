{
 "cells": [
  {
   "cell_type": "markdown",
   "id": "c40f792b",
   "metadata": {},
   "source": [
    "# PymuPDF reader\n",
    "- Read the tutorial here: https://pymupdf.readthedocs.io/en/latest/tutorial.html"
   ]
  },
  {
   "cell_type": "code",
   "execution_count": 1,
   "id": "4bec2efb",
   "metadata": {},
   "outputs": [
    {
     "name": "stdout",
     "output_type": "stream",
     "text": [
      "Using PyMuPDF v1.26.3 from /Users/chandlershortlidge/Desktop/Ironhack/resume-reader/.venv/lib/python3.12/site-packages/fitz/__init__.py\n"
     ]
    }
   ],
   "source": [
    "# automatically reload modules, including the ones you wrote yourself\n",
    "%load_ext autoreload\n",
    "%autoreload 2\n",
    "\n",
    "import fitz\n",
    "import re\n",
    "\n",
    "import pdf_processor as ppr\n",
    "\n",
    "print(f\"Using PyMuPDF v{fitz.__version__} from {fitz.__file__}\")\n"
   ]
  },
  {
   "cell_type": "code",
   "execution_count": 3,
   "id": "b7df53e0",
   "metadata": {},
   "outputs": [],
   "source": [
    "RESUME_PATH = \"data-scientist-resume-example.pdf\""
   ]
  },
  {
   "cell_type": "code",
   "execution_count": 4,
   "id": "8304433b",
   "metadata": {},
   "outputs": [
    {
     "name": "stdout",
     "output_type": "stream",
     "text": [
      "Loaded document with 1 pages\n",
      "format: PDF 1.4\n",
      "title: \n",
      "author: \n",
      "subject: \n",
      "keywords: \n",
      "creator: \n",
      "producer: PDFShift.io\n",
      "creationDate: D:20220728203846+00'00'\n",
      "modDate: D:20220728203846+00'00'\n",
      "trapped: \n",
      "encryption: None\n"
     ]
    }
   ],
   "source": [
    "doc = ppr.load_file(RESUME_PATH)\n",
    "ppr.report_metadata(doc)"
   ]
  },
  {
   "cell_type": "markdown",
   "id": "1c9e08cb",
   "metadata": {},
   "source": [
    "### Keyword Searching\n",
    "- To locate where a term appears on the page (useful for highlighting)"
   ]
  },
  {
   "cell_type": "code",
   "execution_count": 5,
   "id": "70014b58",
   "metadata": {},
   "outputs": [
    {
     "name": "stdout",
     "output_type": "stream",
     "text": [
      "Found 'Python' on page 1\n",
      "Found 'SQL' on page 1\n",
      "Found 'AWS' on page 1\n",
      "Found 'Data Scientist' on page 1\n",
      "Saved highlighted PDF as: my_highlighted_resume.pdf\n"
     ]
    }
   ],
   "source": [
    "# Define the keywords you want to find\n",
    "keywords_to_find = [\"Python\", \"SQL\", \"AWS\", \"Data Scientist\"]\n",
    "\n",
    "# Call your new function to highlight the keywords\n",
    "doc = ppr.highlight_keywords(doc, keywords_to_find)\n",
    "\n",
    "# save PDF with highlights\n",
    "ppr.save_highlighted_doc(doc, \"my_highlighted_resume.pdf\")              \n",
    "  "
   ]
  },
  {
   "cell_type": "code",
   "execution_count": null,
   "id": "972645d5",
   "metadata": {},
   "outputs": [
    {
     "name": "stdout",
     "output_type": "stream",
     "text": [
      "Markdown content successfully saved to KANDACE_LOUDOR.md\n"
     ]
    }
   ],
   "source": [
    "# Call the function, which returns a single formatted string\n",
    "markdown_output = ppr.pdf_to_markdown(doc)\n",
    "\n",
    "# Write the string to an .md file and receive output \"Markdown content successfully saved to: file_name.md\"\n",
    "output_filename = \"KANDACE_LOUDOR.md\"\n",
    "ppr.save_markdown_file(markdown_output, output_filename)"
   ]
  },
  {
   "cell_type": "markdown",
   "id": "c8605e1d",
   "metadata": {},
   "source": [
    "### Get links"
   ]
  },
  {
   "cell_type": "code",
   "execution_count": 11,
   "id": "4c0d5026",
   "metadata": {},
   "outputs": [
    {
     "name": "stdout",
     "output_type": "stream",
     "text": [
      "Page 1 links:\n",
      "  -> URI: https://linkedin.com/\n",
      "    location on page: Rect(116.25, 190.5, 160.5, 205.5)\n",
      "  -> URI: https://github.com/\n",
      "    location on page: Rect(125.25, 206.25, 160.5, 221.25)\n"
     ]
    }
   ],
   "source": [
    "ppr.get_links(doc)\n",
    " \n"
   ]
  },
  {
   "cell_type": "markdown",
   "id": "3ea5b893",
   "metadata": {},
   "source": [
    "### Extracting Text and Images"
   ]
  },
  {
   "cell_type": "code",
   "execution_count": null,
   "id": "4f663cfb",
   "metadata": {},
   "outputs": [],
   "source": [
    "# Extract text from each page\n",
    "\n",
    "for page_num in range(doc.page_count):\n",
    "    page = doc.load_page(page_num)\n",
    "    text = page.get_text()\n",
    "\n",
    "#close when done\n",
    "# doc.close()\n",
    "\n",
    "text"
   ]
  }
 ],
 "metadata": {
  "kernelspec": {
   "display_name": "resume-reader",
   "language": "python",
   "name": "python3"
  },
  "language_info": {
   "codemirror_mode": {
    "name": "ipython",
    "version": 3
   },
   "file_extension": ".py",
   "mimetype": "text/x-python",
   "name": "python",
   "nbconvert_exporter": "python",
   "pygments_lexer": "ipython3",
   "version": "3.12.11"
  }
 },
 "nbformat": 4,
 "nbformat_minor": 5
}
