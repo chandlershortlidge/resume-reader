{
 "cells": [
  {
   "cell_type": "markdown",
   "id": "c40f792b",
   "metadata": {},
   "source": [
    "# PymuPDF reader\n",
    "- Read the tutorial here: https://pymupdf.readthedocs.io/en/latest/tutorial.html"
   ]
  },
  {
   "cell_type": "code",
   "execution_count": null,
   "id": "4bec2efb",
   "metadata": {},
   "outputs": [
    {
     "ename": "",
     "evalue": "",
     "output_type": "error",
     "traceback": [
      "\u001b[1;31mRunning cells with '.venv (Python 3.12.1)' requires the ipykernel package.\n",
      "\u001b[1;31mInstall 'ipykernel' into the Python environment. \n",
      "\u001b[1;31mCommand: '/Users/eliza/Desktop/resume-reader/.venv/bin/python -m pip install ipykernel -U --force-reinstall'"
     ]
    }
   ],
   "source": [
    "import fitz\n",
    "import re\n",
    "\n",
    "print(f\"Using PyMuPDF v{fitz.__version__} from {fitz.__file__}\")\n"
   ]
  },
  {
   "cell_type": "code",
   "execution_count": 5,
   "id": "8304433b",
   "metadata": {},
   "outputs": [],
   "source": [
    "doc = fitz.open(\"/users/ChandlerShortlidge/Downloads/data-scientist-resume-example.pdf\")"
   ]
  },
  {
   "cell_type": "code",
   "execution_count": 6,
   "id": "b9bb2a68",
   "metadata": {},
   "outputs": [
    {
     "name": "stdout",
     "output_type": "stream",
     "text": [
      "Pages: 1\n"
     ]
    }
   ],
   "source": [
    "# inspect number of pages\n",
    "print(f\"Pages: {doc.page_count}\")"
   ]
  },
  {
   "cell_type": "markdown",
   "id": "ba6d40c2",
   "metadata": {},
   "source": [
    "### Accessing Metadata"
   ]
  },
  {
   "cell_type": "code",
   "execution_count": 7,
   "id": "83621aa2",
   "metadata": {},
   "outputs": [
    {
     "name": "stdout",
     "output_type": "stream",
     "text": [
      "format: PDF 1.4\n",
      "title: \n",
      "author: \n",
      "subject: \n",
      "keywords: \n",
      "creator: \n",
      "producer: PDFShift.io\n",
      "creationDate: D:20220728203846+00'00'\n",
      "modDate: D:20220728203846+00'00'\n",
      "trapped: \n",
      "encryption: None\n"
     ]
    }
   ],
   "source": [
    "meta = doc.metadata\n",
    "\n",
    "for key, value in meta.items():\n",
    "    print(f\"{key}: {value}\")"
   ]
  },
  {
   "cell_type": "markdown",
   "id": "3ea5b893",
   "metadata": {},
   "source": [
    "### Extracting Text and Images"
   ]
  },
  {
   "cell_type": "code",
   "execution_count": 8,
   "id": "4f663cfb",
   "metadata": {},
   "outputs": [
    {
     "name": "stdout",
     "output_type": "stream",
     "text": [
      "--- Page 1 ---\n",
      "KANDACE LOUDOR\n",
      "DATA SCIENTIST\n",
      "CONTACT\n",
      "kloudor@email.com\n",
      "(123) 456-7890\n",
      "Mount Laurel, NJ\n",
      "LinkedIn\n",
      "Github\n",
      "EDUCATION\n",
      "B.S.\n",
      "Statistics\n",
      "Rutgers University\n",
      "September 2011 - April 2015\n",
      "New Brunswick, NJ\n",
      "SKILL ...\n"
     ]
    }
   ],
   "source": [
    "# Extract text from each page\n",
    "\n",
    "for page_num in range(doc.page_count):\n",
    "    page = doc.load_page(page_num)\n",
    "    text = page.get_text()\n",
    "    print(f\"--- Page {page_num + 1} ---\")\n",
    "    print(text[:200], \"...\") #print first 200 chars\n",
    "\n",
    "#close when done\n",
    "# doc.close()"
   ]
  },
  {
   "cell_type": "markdown",
   "id": "8bf443d8",
   "metadata": {},
   "source": [
    "### Keyword Searching\n",
    "- To locate where a term appears on the page (useful for highlighting)"
   ]
  },
  {
   "cell_type": "code",
   "execution_count": 9,
   "id": "9076d2fa",
   "metadata": {},
   "outputs": [
    {
     "name": "stdout",
     "output_type": "stream",
     "text": [
      "Found 'experience' on page 1 at:\n",
      "    Rect(265.640625, 117.10921478271484, 363.8422546386719, 137.010009765625)\n",
      "Saved highlighted PDF as: highlighted_output.pdf\n"
     ]
    }
   ],
   "source": [
    "keyword = \"experience\"\n",
    "# Loop over pages and search for your keyword\n",
    "for page_num in range(doc.page_count):\n",
    "    page = doc.load_page(page_num)\n",
    "\n",
    "    matches = page.search_for(\"experience\")\n",
    "    if matches:\n",
    "        print(f\"Found '{keyword}' on page {page_num + 1} at:\")\n",
    "        for r in matches:\n",
    "             # print bounding box coordinates\n",
    "            print(f\"    {r}\")\n",
    "            # add a yellow highlight annotation\n",
    "            highlight = page.add_highlight_annot(r)\n",
    "\n",
    "\n",
    "# save PDF with highlights\n",
    "out_path = \"highlighted_output.pdf\"\n",
    "doc.save(out_path, garbage=4, deflate=True, clean=True)\n",
    "\n",
    "\n",
    "print(f\"Saved highlighted PDF as: {out_path}\")                  "
   ]
  },
  {
   "cell_type": "markdown",
   "id": "3acbe837",
   "metadata": {},
   "source": [
    "### get_links()\n",
    "- https://pymupdf.readthedocs.io/en/latest/page.html#Page.get_links"
   ]
  },
  {
   "cell_type": "code",
   "execution_count": 10,
   "id": "bed2e33b",
   "metadata": {},
   "outputs": [
    {
     "name": "stdout",
     "output_type": "stream",
     "text": [
      "Page 1 links:\n",
      "  → URI: https://linkedin.com/\n",
      "    location on page: Rect(116.25, 190.5, 160.5, 205.5)\n",
      "  → URI: https://github.com/\n",
      "    location on page: Rect(125.25, 206.25, 160.5, 221.25)\n"
     ]
    }
   ],
   "source": [
    "# Loop through pages and inspect links\n",
    "for page_num in range(doc.page_count):\n",
    "    page = doc.load_page(page_num) \n",
    "    links = page.links() # list of link-dicts from page\n",
    "\n",
    "    if not links:\n",
    "        continue\n",
    "\n",
    "    print(f\"Page {page_num + 1} links:\")\n",
    "    for link in links: \n",
    "    # Common keys: 'kind', 'from', and either 'uri' or 'xref'/'to'\n",
    "        kind = link[\"kind\"]\n",
    "        location = link[\"from\"] # where the link is located\n",
    "        uri = link.get(\"uri\") # external URL, if any\n",
    "        to = link.get(\"to\") # (page, ...) for internal jumps\n",
    "\n",
    "        if uri:\n",
    "            print(f\"  → URI: {uri}\")\n",
    "        elif to:\n",
    "            print(f\"  → Internal link to page {to[0] + 1}\")\n",
    "        else:\n",
    "            print(\"  → Other link kind:\", kind)\n",
    "\n",
    "        print(f\"    location on page: {location}\")    \n"
   ]
  },
  {
   "cell_type": "markdown",
   "id": "b42dfcb1",
   "metadata": {},
   "source": [
    "## Convert to markdown "
   ]
  },
  {
   "cell_type": "code",
   "execution_count": 11,
   "id": "2549635f",
   "metadata": {},
   "outputs": [
    {
     "name": "stdout",
     "output_type": "stream",
     "text": [
      "Converted /Users/chandlershortlidge/Downloads/data-scientist-resume-example.pdf → KANDACE LOUDOR.md\n"
     ]
    }
   ],
   "source": [
    "def pdf_to_markdown(pdf_path, md_path):\n",
    "    doc = fitz.open(pdf_path)\n",
    "    md_lines = []\n",
    "\n",
    "    for p in range(doc.page_count):\n",
    "        page = doc.load_page(p)\n",
    "        # get a nested dict of blocks → lines → spans\n",
    "        page_dict = page.get_text(\"dict\")\n",
    "\n",
    "        for block in page_dict[\"blocks\"]:\n",
    "            # Only text blocks (ignore images, drawings)\n",
    "            if block[\"type\"] != 0:\n",
    "                continue\n",
    "\n",
    "            # Join all spans in this block into one text string\n",
    "            text = \" \".join(span[\"text\"] for line in block[\"lines\"] for span in line[\"spans\"])\n",
    "            text = text.strip()\n",
    "            if not text:\n",
    "                continue\n",
    "\n",
    "            #  Simple heuristic: ALL CAPS + short → H2\n",
    "            if text.isupper() and len(text) < 60:\n",
    "                md_lines.append(f\"## {text.title()}\")\n",
    "                continue\n",
    "\n",
    "            # Detect bullet lists (e.g. lines starting with • or –)\n",
    "            if re.match(r\"^[•\\-\\u2022]\\s+\", text):\n",
    "                item = re.sub(r\"^[•\\-\\u2022]\\s+\", \"\", text)\n",
    "                md_lines.append(f\"-{item}\")\n",
    "                continue\n",
    "\n",
    "            # Otherwise treat as paragraph\n",
    "            md_lines.append(text)\n",
    "\n",
    "        # Add a page break marker (optional)\n",
    "        md_lines.append(\"\\n---\\n\")\n",
    "\n",
    "        \n",
    "\n",
    "# Write out the Markdown\n",
    "    with open(md_path, \"w\", encoding=\"utf-8\") as f:\n",
    "        f.write(\"\\n\\n\".join(md_lines))\n",
    "\n",
    "    print(f\"Converted {pdf_path} → {md_path}\")\n",
    "\n",
    "# Usage\n",
    "pdf_to_markdown(\"/Users/chandlershortlidge/Downloads/data-scientist-resume-example.pdf\", \"KANDACE LOUDOR.md\")\n"
   ]
  },
  {
   "cell_type": "code",
   "execution_count": null,
   "id": "bee1479c",
   "metadata": {},
   "outputs": [],
   "source": []
  }
 ],
 "metadata": {
  "kernelspec": {
   "display_name": ".venv",
   "language": "python",
   "name": "python3"
  },
  "language_info": {
   "codemirror_mode": {
    "name": "ipython",
    "version": 3
   },
   "file_extension": ".py",
   "mimetype": "text/x-python",
   "name": "python",
   "nbconvert_exporter": "python",
   "pygments_lexer": "ipython3",
   "version": "3.12.1"
  }
 },
 "nbformat": 4,
 "nbformat_minor": 5
}
